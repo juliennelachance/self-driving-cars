{
 "cells": [
  {
   "cell_type": "markdown",
   "metadata": {},
   "source": [
    "# Convolutional Neural Network Example"
   ]
  },
  {
   "cell_type": "markdown",
   "metadata": {},
   "source": [
    "This notebook demonstrates how to train and test a convolutional neural network (CNN) on your data. \n",
    "\n",
    "As before, we'll load in the German Traffic Signs data, pre-process it, and then use it to train the model. "
   ]
  },
  {
   "cell_type": "code",
   "execution_count": 1,
   "metadata": {},
   "outputs": [],
   "source": [
    "import matplotlib.pyplot as plt\n",
    "import csv\n",
    "import numpy as np\n",
    "import cv2\n",
    "from sklearn.model_selection import train_test_split\n",
    "\n",
    "def readTrafficSigns(rootpath, test_set = 0):\n",
    "    '''\n",
    "    Reads traffic sign data for German Traffic Sign Recognition Benchmark.\n",
    "\n",
    "    Input: path to the traffic sign data, for example './GTSRB/Training'\n",
    "    Output:   list of images, list of corresponding labels\n",
    "    '''\n",
    "    \n",
    "    # Initialize the lists to store images, labels: \n",
    "    images = [] # images\n",
    "    labels = [] # corresponding labels\n",
    "    \n",
    "    # loop over all 42 classes\n",
    "    for c in range(0,43):\n",
    "        # The csv contains annotations for each image.\n",
    "        # Path to csv file: \n",
    "        prefix = rootpath + '/' + format(c, '05d') + '/' # subdirectory for class\n",
    "        gtFile = open(prefix + 'GT-'+ format(c, '05d') + '.csv') # annotations file\n",
    "\n",
    "        \n",
    "        # Open and start reading the lines of the csv file: \n",
    "        gtReader = csv.reader(gtFile, delimiter=';') # csv parser for annotations file\n",
    "        next(gtReader) # skip header\n",
    "        \n",
    "        # loop over all images in current annotations file\n",
    "        for row in gtReader:\n",
    "            # Add each image and label to their respective lists\n",
    "            images.append(plt.imread(prefix + row[0])) # the 1th column is the filename\n",
    "            labels.append(row[7]) # the 8th column is the label\n",
    "        # Finally, close the csv file when we're done.\n",
    "        gtFile.close()\n",
    "        \n",
    "    return images, labels"
   ]
  },
  {
   "cell_type": "markdown",
   "metadata": {},
   "source": [
    "Don't forget to set your path! "
   ]
  },
  {
   "cell_type": "code",
   "execution_count": 2,
   "metadata": {},
   "outputs": [],
   "source": [
    "my_path = './Images' # Change this to whatever you had in the last notebook"
   ]
  },
  {
   "cell_type": "markdown",
   "metadata": {},
   "source": [
    "This time, we will convert the images to grayscale and resize them, but we WON'T reshape the images. \n",
    "\n",
    "The CNN will work on each image as it is! "
   ]
  },
  {
   "cell_type": "code",
   "execution_count": 3,
   "metadata": {},
   "outputs": [],
   "source": [
    "def convert_image(image):\n",
    "    gray = cv2.cvtColor(image, cv2.COLOR_RGB2GRAY)\n",
    "    gray = cv2.resize(gray, (28,28))\n",
    "    return gray"
   ]
  },
  {
   "cell_type": "code",
   "execution_count": 4,
   "metadata": {},
   "outputs": [],
   "source": [
    "def find_images_by_label(X, y, label):\n",
    "    \"\"\"\n",
    "    Inputs: Data matrices X and y, and desired label to match \n",
    "    Outputs: Desired subset of X and y matrices (with consistent formatting)\n",
    "    \"\"\"\n",
    "    X_sub = []\n",
    "    y_sub = []\n",
    "\n",
    "    for i in range(len(y)):       \n",
    "        if(int(y[i])==int(label)):\n",
    "            X_sub.append(convert_image(X[i]))   \n",
    "            y_sub.append(int(label))\n",
    "\n",
    "    return X_sub, y_sub"
   ]
  },
  {
   "cell_type": "code",
   "execution_count": 5,
   "metadata": {},
   "outputs": [],
   "source": [
    "def make_data_array(trainImages, trainLabels, label_list):\n",
    "    \"\"\"\n",
    "    Inputs: training images/labels data, plus a list of labels we want to keep\n",
    "    Outputs: train/test splits of reduced X, y matrices \n",
    "    \"\"\"\n",
    "    \n",
    "    X_store, y_store = find_images_by_label(trainImages, trainLabels, label_list[0])\n",
    "    \n",
    "    for i in range(1, len(label_list)):\n",
    "        X_temp, y_temp = find_images_by_label(trainImages, trainLabels, label_list[i])\n",
    "               \n",
    "        X_store = np.append(X_store, X_temp, axis=0)\n",
    "        y_store = np.append(y_store, y_temp, axis=0)\n",
    "    \n",
    "    X_train, X_test, y_train, y_test = train_test_split(X_store, y_store, test_size=0.33, random_state=42)\n",
    "    return X_train, y_train, X_test, y_test\n",
    "\n"
   ]
  },
  {
   "cell_type": "code",
   "execution_count": 6,
   "metadata": {},
   "outputs": [],
   "source": [
    "trainImages, trainLabels = readTrafficSigns(my_path)\n",
    "# To get all the labels: \n",
    "# index_list = range(0,len(np.unique(trainLabels)))\n",
    "# Here we'll use the first two classes, since they're harder to distinguish: \n",
    "label_list = [0, 1]\n",
    "x_train, y_train, x_test, y_test = make_data_array(trainImages, trainLabels, label_list)"
   ]
  },
  {
   "cell_type": "markdown",
   "metadata": {},
   "source": [
    "Import keras, which allows us to use Tensorflow to create the CNN: "
   ]
  },
  {
   "cell_type": "code",
   "execution_count": 7,
   "metadata": {},
   "outputs": [
    {
     "name": "stderr",
     "output_type": "stream",
     "text": [
      "Using TensorFlow backend.\n"
     ]
    }
   ],
   "source": [
    "import keras\n",
    "from keras.layers import Dense, Flatten\n",
    "from keras.layers import Conv2D, MaxPooling2D\n",
    "from keras.models import Sequential\n",
    "import matplotlib.pylab as plt"
   ]
  },
  {
   "cell_type": "code",
   "execution_count": 8,
   "metadata": {},
   "outputs": [
    {
     "name": "stdout",
     "output_type": "stream",
     "text": [
      "x_train shape: (1628, 28, 28, 1)\n",
      "1628 train samples\n",
      "802 test samples\n"
     ]
    }
   ],
   "source": [
    "batch_size = 128\n",
    "num_classes = 2\n",
    "epochs = 10\n",
    "\n",
    "# input image dimensions\n",
    "img_x, img_y = 28, 28\n",
    "\n",
    "# Re-shaping the data array into a form the CNN model expects: \n",
    "x_train = x_train.reshape(x_train.shape[0], img_x, img_y, 1)\n",
    "x_test = x_test.reshape(x_test.shape[0], img_x, img_y, 1)\n",
    "input_shape = (img_x, img_y, 1)\n",
    "\n",
    "# convert the data to the right type\n",
    "x_train = x_train.astype('float32')\n",
    "x_test = x_test.astype('float32')\n",
    "# scale the image by max intensity value\n",
    "x_train /= 255\n",
    "x_test /= 255\n",
    "print('x_train shape:', x_train.shape)\n",
    "print(x_train.shape[0], 'train samples')\n",
    "print(x_test.shape[0], 'test samples')"
   ]
  },
  {
   "cell_type": "code",
   "execution_count": 9,
   "metadata": {},
   "outputs": [
    {
     "name": "stdout",
     "output_type": "stream",
     "text": [
      "Train on 1628 samples, validate on 802 samples\n",
      "Epoch 1/10\n",
      "1628/1628 [==============================] - 2s 1ms/step - loss: 0.3715 - acc: 0.9122 - val_loss: 0.3120 - val_acc: 0.9165\n",
      "Epoch 2/10\n",
      "1628/1628 [==============================] - 2s 1ms/step - loss: 0.3252 - acc: 0.9122 - val_loss: 0.2888 - val_acc: 0.9165\n",
      "Epoch 3/10\n",
      "1628/1628 [==============================] - 2s 1ms/step - loss: 0.2997 - acc: 0.9122 - val_loss: 0.2601 - val_acc: 0.9165\n",
      "Epoch 4/10\n",
      "1628/1628 [==============================] - 2s 1ms/step - loss: 0.2515 - acc: 0.9189 - val_loss: 0.2065 - val_acc: 0.9239\n",
      "Epoch 5/10\n",
      "1628/1628 [==============================] - 2s 1ms/step - loss: 0.2012 - acc: 0.9312 - val_loss: 0.1603 - val_acc: 0.9289\n",
      "Epoch 6/10\n",
      "1628/1628 [==============================] - 2s 1ms/step - loss: 0.1262 - acc: 0.9527 - val_loss: 0.0814 - val_acc: 0.9788\n",
      "Epoch 7/10\n",
      "1628/1628 [==============================] - 2s 1ms/step - loss: 0.0608 - acc: 0.9816 - val_loss: 0.0384 - val_acc: 0.9938\n",
      "Epoch 8/10\n",
      "1628/1628 [==============================] - 2s 1ms/step - loss: 0.0318 - acc: 0.9896 - val_loss: 0.0272 - val_acc: 0.9938\n",
      "Epoch 9/10\n",
      "1628/1628 [==============================] - 2s 1ms/step - loss: 0.0196 - acc: 0.9957 - val_loss: 0.0150 - val_acc: 0.9950\n",
      "Epoch 10/10\n",
      "1628/1628 [==============================] - 2s 1ms/step - loss: 0.0126 - acc: 0.9975 - val_loss: 0.0100 - val_acc: 0.9975\n",
      "Test loss: 0.010041976129250634\n",
      "Test accuracy: 0.9975062344139651\n"
     ]
    }
   ],
   "source": [
    "# convert class vectors to binary class matrices - this is for use in the\n",
    "# categorical_crossentropy loss below\n",
    "\n",
    "y_train = keras.utils.to_categorical(y_train, num_classes)\n",
    "y_test = keras.utils.to_categorical(y_test, num_classes)\n",
    "\n",
    "# Build the model! \n",
    "model = Sequential()\n",
    "model.add(Conv2D(32, kernel_size=(5, 5), strides=(1, 1),\n",
    "                 activation='relu',\n",
    "                 input_shape=input_shape))\n",
    "model.add(MaxPooling2D(pool_size=(2, 2), strides=(2, 2)))\n",
    "model.add(Conv2D(64, (5, 5), activation='relu'))\n",
    "model.add(MaxPooling2D(pool_size=(2, 2)))\n",
    "model.add(Flatten())\n",
    "model.add(Dense(1000, activation='relu'))\n",
    "model.add(Dense(num_classes, activation='softmax'))\n",
    "\n",
    "# compile the model \n",
    "model.compile(loss=keras.losses.categorical_crossentropy,\n",
    "              optimizer=keras.optimizers.Adam(),\n",
    "              metrics=['accuracy'])\n",
    "\n",
    "# do some stuff to let us track the accuracy \n",
    "class AccuracyHistory(keras.callbacks.Callback):\n",
    "    def on_train_begin(self, logs={}):\n",
    "        self.acc = []\n",
    "\n",
    "    def on_epoch_end(self, batch, logs={}):\n",
    "        self.acc.append(logs.get('acc'))\n",
    "\n",
    "history = AccuracyHistory()\n",
    "\n",
    "# Fit the model on your training data\n",
    "model.fit(x_train, y_train,\n",
    "          batch_size=batch_size,\n",
    "          epochs=epochs,\n",
    "          verbose=1,\n",
    "          validation_data=(x_test, y_test),\n",
    "          callbacks=[history])\n",
    "\n",
    "# Evaluate the model on your test data \n",
    "score = model.evaluate(x_test, y_test, verbose=0)\n",
    "\n",
    "# Print the scores: \n",
    "print('Test loss:', score[0])\n",
    "print('Test accuracy:', score[1])\n"
   ]
  },
  {
   "cell_type": "markdown",
   "metadata": {},
   "source": [
    "Now we can plot the accuracy as it improved (hopefully) in 'time'"
   ]
  },
  {
   "cell_type": "code",
   "execution_count": 10,
   "metadata": {},
   "outputs": [
    {
     "data": {
      "image/png": "[encoded data removed]",
      "text/plain": [
       "<Figure size 432x288 with 1 Axes>"
      ]
     },
     "metadata": {},
     "output_type": "display_data"
    }
   ],
   "source": [
    "plt.plot(history.acc)\n",
    "plt.xlabel('Epochs')\n",
    "plt.ylabel('Accuracy')\n",
    "plt.show()"
   ]
  },
  {
   "cell_type": "markdown",
   "metadata": {},
   "source": [
    "Finally, let's see how to test one example image from the test set."
   ]
  },
  {
   "cell_type": "code",
   "execution_count": 11,
   "metadata": {},
   "outputs": [
    {
     "data": {
      "image/png": "[encoded data removed]",
      "text/plain": [
       "<Figure size 432x288 with 1 Axes>"
      ]
     },
     "metadata": {},
     "output_type": "display_data"
    }
   ],
   "source": [
    "plt.imshow(x_test[0][:,:,0], cmap='gray')\n",
    "plt.show()"
   ]
  },
  {
   "cell_type": "code",
   "execution_count": 12,
   "metadata": {},
   "outputs": [
    {
     "name": "stdout",
     "output_type": "stream",
     "text": [
      "Prediction for class 0: %.2f 1.893943e-05\n",
      "Prediction for class 1: %.2f 0.99998105\n"
     ]
    }
   ],
   "source": [
    "test_img = x_test[0]\n",
    "test_img = test_img.reshape(1, img_x, img_y, 1)\n",
    "pred = model.predict(test_img)\n",
    "print('Prediction for class 0: %.2f', pred[0][0])\n",
    "print('Prediction for class 1: %.2f', pred[0][1])\n"
   ]
  },
  {
   "cell_type": "markdown",
   "metadata": {},
   "source": [
    "What class does the neural network think this example is in? "
   ]
  },
  {
   "cell_type": "code",
   "execution_count": null,
   "metadata": {},
   "outputs": [],
   "source": []
  }
 ],
 "metadata": {
  "kernelspec": {
   "display_name": "Python 3",
   "language": "python",
   "name": "python3"
  },
  "language_info": {
   "codemirror_mode": {
    "name": "ipython",
    "version": 3
   },
   "file_extension": ".py",
   "mimetype": "text/x-python",
   "name": "python",
   "nbconvert_exporter": "python",
   "pygments_lexer": "ipython3",
   "version": "3.6.5"
  }
 },
 "nbformat": 4,
 "nbformat_minor": 2
}
